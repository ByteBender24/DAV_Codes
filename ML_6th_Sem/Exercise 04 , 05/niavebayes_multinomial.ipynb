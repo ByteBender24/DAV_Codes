{
 "cells": [
  {
   "cell_type": "markdown",
   "metadata": {
    "id": "i_6w61x9MXkj"
   },
   "source": [
    "## **1. Understanding the Formula**\n",
    "The **Multinomial Naïve Bayes** classifier is used for **text classification** problems, such as **spam detection**.\n",
    "\n",
    "### **Bayes' Theorem:**\n",
    "\\[\n",
    "P(Class | Features) = \\frac{P(Features | Class) \\times P(Class)}{P(Features)}\n",
    "\\]\n",
    "\n",
    "Where:\n",
    "- \\( P(Class | Features) \\) = Posterior probability of a class (Spam or Normal) given the message features.\n",
    "- \\( P(Features | Class) \\) = Likelihood (probability of word occurrence in a class).\n",
    "- \\( P(Class) \\) = Prior probability of a class.\n",
    "- \\( P(Features) \\) = Evidence (probability of message features occurring).\n",
    "\n",
    "### **Multinomial Naïve Bayes Formula:**\n",
    "For a message containing words \\( w_1, w_2, ..., w_n \\):\n",
    "\n",
    "\\[\n",
    "P(Class | Message) \\propto P(Class) \\times \\prod_{i=1}^{n} P(w_i | Class)\n",
    "\\]\n",
    "\n",
    "- **Each word’s probability is calculated using:**\n",
    "  \\[\n",
    "  P(w | Class) = \\frac{\\text{Count of word } w \\text{ in class} + 1}{\\text{Total words in class} + \\text{Total unique words}}\n",
    "  \\]\n",
    "- This is known as **Laplace Smoothing** to prevent zero probabilities.\n",
    "\n",
    "### **Final Decision Rule**\n",
    "The class with the **highest probability** is chosen:\n",
    "\\[\n",
    "Class = \\arg\\max P(Class | Message)\n",
    "\\]\n"
   ]
  },
  {
   "cell_type": "code",
   "execution_count": 27,
   "metadata": {
    "colab": {
     "base_uri": "https://localhost:8080/",
     "height": 206
    },
    "id": "TbGd4vXDMNYE",
    "outputId": "5f2d0575-24c8-46a0-ff48-037fb1417dae"
   },
   "outputs": [
    {
     "data": {
      "text/html": [
       "<div>\n",
       "<style scoped>\n",
       "    .dataframe tbody tr th:only-of-type {\n",
       "        vertical-align: middle;\n",
       "    }\n",
       "\n",
       "    .dataframe tbody tr th {\n",
       "        vertical-align: top;\n",
       "    }\n",
       "\n",
       "    .dataframe thead th {\n",
       "        text-align: right;\n",
       "    }\n",
       "</style>\n",
       "<table border=\"1\" class=\"dataframe\">\n",
       "  <thead>\n",
       "    <tr style=\"text-align: right;\">\n",
       "      <th></th>\n",
       "      <th>Label</th>\n",
       "      <th>Message</th>\n",
       "    </tr>\n",
       "  </thead>\n",
       "  <tbody>\n",
       "    <tr>\n",
       "      <th>0</th>\n",
       "      <td>0</td>\n",
       "      <td>Go until jurong point, crazy.. Available only ...</td>\n",
       "    </tr>\n",
       "    <tr>\n",
       "      <th>1</th>\n",
       "      <td>0</td>\n",
       "      <td>Ok lar... Joking wif u oni...</td>\n",
       "    </tr>\n",
       "    <tr>\n",
       "      <th>2</th>\n",
       "      <td>1</td>\n",
       "      <td>Free entry in 2 a wkly comp to win FA Cup fina...</td>\n",
       "    </tr>\n",
       "    <tr>\n",
       "      <th>3</th>\n",
       "      <td>0</td>\n",
       "      <td>U dun say so early hor... U c already then say...</td>\n",
       "    </tr>\n",
       "    <tr>\n",
       "      <th>4</th>\n",
       "      <td>0</td>\n",
       "      <td>Nah I don't think he goes to usf, he lives aro...</td>\n",
       "    </tr>\n",
       "  </tbody>\n",
       "</table>\n",
       "</div>"
      ],
      "text/plain": [
       "   Label                                            Message\n",
       "0      0  Go until jurong point, crazy.. Available only ...\n",
       "1      0                      Ok lar... Joking wif u oni...\n",
       "2      1  Free entry in 2 a wkly comp to win FA Cup fina...\n",
       "3      0  U dun say so early hor... U c already then say...\n",
       "4      0  Nah I don't think he goes to usf, he lives aro..."
      ]
     },
     "execution_count": 27,
     "metadata": {},
     "output_type": "execute_result"
    }
   ],
   "source": [
    "# Import libraries\n",
    "import numpy as np\n",
    "import pandas as pd\n",
    "import re\n",
    "import string\n",
    "from collections import defaultdict\n",
    "from sklearn.model_selection import train_test_split\n",
    "from sklearn.metrics import accuracy_score, classification_report\n",
    "file_path = \"./SMSSpamCollection\"\n",
    "\n",
    "# Load the dataset\n",
    "df = pd.read_csv(file_path, sep='\\t', header=None, names=[\"Label\", \"Message\"])\n",
    "\n",
    "# Display first 5 rows\n",
    "df.head()\n",
    "\n",
    "\n",
    "# Rename columns for clarity\n",
    "df.columns = [\"Label\", \"Message\"]\n",
    "\n",
    "# Convert labels to binary (0 = Normal, 1 = Spam)\n",
    "df[\"Label\"] = df[\"Label\"].map({\"ham\": 0, \"spam\": 1})\n",
    "\n",
    "# Display dataset structure\n",
    "df.head()\n"
   ]
  },
  {
   "cell_type": "code",
   "execution_count": 29,
   "metadata": {
    "id": "T8lXeXqJPL36"
   },
   "outputs": [],
   "source": [
    "# Function to clean and tokenize text\n",
    "def clean_text(text):\n",
    "    text = text.lower()  # Lowercase\n",
    "    text = re.sub(f\"[{string.punctuation}]\", \"\", text)  # Remove punctuation\n",
    "    words = text.split()  # Tokenize\n",
    "    return words\n",
    "\n",
    "# Apply text preprocessing\n",
    "df[\"Processed\"] = df[\"Message\"].apply(clean_text)\n",
    "\n",
    "# Split dataset into training and testing sets (80% train, 20% test)\n",
    "X_train, X_test, y_train, y_test = train_test_split(df[\"Processed\"], df[\"Label\"], test_size=0.2, random_state=42)\n"
   ]
  },
  {
   "cell_type": "code",
   "execution_count": 31,
   "metadata": {
    "id": "GYG8ovdDPsnF"
   },
   "outputs": [],
   "source": [
    "class MultinomialNaiveBayes:\n",
    "    def __init__(self, alpha=1.0):  # Laplace smoothing parameter\n",
    "        self.alpha = alpha\n",
    "        self.class_probs = {}\n",
    "        self.word_probs = defaultdict(lambda: defaultdict(float))\n",
    "        self.vocab = set()\n",
    "\n",
    "    def fit(self, X_train, y_train):\n",
    "        class_counts = defaultdict(int)\n",
    "        word_counts = defaultdict(lambda: defaultdict(int))\n",
    "\n",
    "        # Count word occurrences for each class\n",
    "        for words, label in zip(X_train, y_train):\n",
    "            class_counts[label] += 1\n",
    "            for word in words:\n",
    "                word_counts[label][word] += 1\n",
    "                self.vocab.add(word)\n",
    "\n",
    "        # Calculate class probabilities\n",
    "        total_docs = sum(class_counts.values())\n",
    "        for label in class_counts:\n",
    "            self.class_probs[label] = class_counts[label] / total_docs\n",
    "\n",
    "        # Calculate word probabilities with Laplace smoothing\n",
    "        vocab_size = len(self.vocab)\n",
    "        for label in word_counts:\n",
    "            total_words = sum(word_counts[label].values())\n",
    "            for word in self.vocab:\n",
    "                self.word_probs[label][word] = (word_counts[label][word] + self.alpha) / (total_words + self.alpha * vocab_size)\n",
    "\n",
    "    def predict(self, X_test):\n",
    "        predictions = []\n",
    "        for words in X_test:\n",
    "            class_scores = {}\n",
    "            for label in self.class_probs:\n",
    "                class_scores[label] = np.log(self.class_probs[label])  # Start with log prior probability\n",
    "                for word in words:\n",
    "                    if word in self.vocab:  # Only consider known words\n",
    "                        class_scores[label] += np.log(self.word_probs[label].get(word, self.alpha / (self.alpha * len(self.vocab))))\n",
    "\n",
    "            # Predict class with highest log-probability\n",
    "            predictions.append(max(class_scores, key=class_scores.get))\n",
    "        return predictions\n"
   ]
  },
  {
   "cell_type": "code",
   "execution_count": 33,
   "metadata": {
    "id": "McdMF89nPvEn"
   },
   "outputs": [],
   "source": [
    "# Train the Multinomial Naïve Bayes Model\n",
    "nb = MultinomialNaiveBayes(alpha=1.0)\n",
    "nb.fit(X_train, y_train)\n"
   ]
  },
  {
   "cell_type": "code",
   "execution_count": 35,
   "metadata": {},
   "outputs": [],
   "source": [
    "y_pred = nb.predict(X_test)"
   ]
  },
  {
   "cell_type": "code",
   "execution_count": 37,
   "metadata": {},
   "outputs": [
    {
     "data": {
      "text/plain": [
       "0.9874439461883409"
      ]
     },
     "execution_count": 37,
     "metadata": {},
     "output_type": "execute_result"
    }
   ],
   "source": [
    "accuracy = accuracy_score(y_test, y_pred)\n",
    "accuracy"
   ]
  },
  {
   "cell_type": "code",
   "execution_count": null,
   "metadata": {},
   "outputs": [],
   "source": []
  }
 ],
 "metadata": {
  "colab": {
   "provenance": []
  },
  "kernelspec": {
   "display_name": "Python [conda env:base] *",
   "language": "python",
   "name": "conda-base-py"
  },
  "language_info": {
   "codemirror_mode": {
    "name": "ipython",
    "version": 3
   },
   "file_extension": ".py",
   "mimetype": "text/x-python",
   "name": "python",
   "nbconvert_exporter": "python",
   "pygments_lexer": "ipython3",
   "version": "3.12.7"
  }
 },
 "nbformat": 4,
 "nbformat_minor": 4
}
