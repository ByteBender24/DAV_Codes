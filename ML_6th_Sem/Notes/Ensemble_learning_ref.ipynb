{
 "cells": [
  {
   "cell_type": "code",
   "execution_count": 7,
   "id": "01d4537f-12e4-4e65-80f7-987759fd2108",
   "metadata": {},
   "outputs": [
    {
     "name": "stdout",
     "output_type": "stream",
     "text": [
      "-------------------------------------------------Bagging------------------------------------------------------------------------------------\n",
      "Accuracy: 0.7988826815642458\n",
      "-------------------------------------------------Boosting------------------------------------------------------------------------------------\n",
      "Boosting (XGBoost) Accuracy: 0.8268156424581006\n",
      "-------------------------------------------------Stacking------------------------------------------------------------------------------------\n",
      "Accuracy: 0.7988826815642458\n"
     ]
    }
   ],
   "source": [
    "import pandas as pd\n",
    "from sklearn.ensemble import RandomForestClassifier\n",
    "from sklearn.model_selection import train_test_split\n",
    "from sklearn.metrics import accuracy_score\n",
    "from sklearn.ensemble import StackingClassifier\n",
    "from sklearn.linear_model import LogisticRegression\n",
    "from sklearn.svm import SVC\n",
    "from sklearn.neighbors import KNeighborsClassifier\n",
    "from sklearn.tree import DecisionTreeClassifier\n",
    "from xgboost import XGBClassifier\n",
    "\n",
    "# Load the Titanic dataset\n",
    "df = pd.read_csv('Titanic-Dataset.csv')\n",
    "\n",
    "# 1. Prepare Data\n",
    "# Select features and target\n",
    "features = ['Pclass', 'Sex', 'Age', 'SibSp', 'Parch', 'Fare', 'Embarked']\n",
    "target = 'Survived'\n",
    "\n",
    "# Create a copy to avoid SettingWithCopyWarning\n",
    "X = df[features].copy()\n",
    "y = df[target]\n",
    "\n",
    "# 2. Handle Missing Values and Encode Categorical Features\n",
    "# Fill missing Age values with the median (without inplace=True)\n",
    "X['Age'] = X['Age'].fillna(X['Age'].median())\n",
    "\n",
    "# Fill missing Embarked values (if any)\n",
    "X['Embarked'] = X['Embarked'].fillna(X['Embarked'].mode()[0])\n",
    "\n",
    "# One-hot encode categorical features\n",
    "X = pd.get_dummies(X, columns=['Pclass', 'Sex', 'Embarked'], drop_first=True)\n",
    "\n",
    "# 3. Split Data\n",
    "X_train, X_test, y_train, y_test = train_test_split(X, y, test_size=0.2, random_state=42)\n",
    "\n",
    "print(\"-------------------------------------------------Bagging------------------------------------------------------------------------------------\")\n",
    "\n",
    "# Train Random Forest\n",
    "model1 = RandomForestClassifier(n_estimators=100, random_state=42)\n",
    "model1.fit(X_train, y_train)\n",
    "\n",
    "# Predict and evaluate\n",
    "y_pred = model1.predict(X_test)\n",
    "print(\"Accuracy:\", accuracy_score(y_test, y_pred))\n",
    "\n",
    "\n",
    "print(\"-------------------------------------------------Boosting------------------------------------------------------------------------------------\")\n",
    "\n",
    "# Train XGBoost model\n",
    "model2 = XGBClassifier(n_estimators=100, learning_rate=0.1, random_state=42)\n",
    "model2.fit(X_train, y_train)\n",
    "\n",
    "# Predict and evaluate\n",
    "y_pred = model2.predict(X_test)\n",
    "print(\"Boosting (XGBoost) Accuracy:\", accuracy_score(y_test, y_pred))\n",
    "\n",
    "print(\"-------------------------------------------------Stacking------------------------------------------------------------------------------------\")\n",
    "\n",
    "base_models = [\n",
    "    ('knn', KNeighborsClassifier(n_neighbors=3)),\n",
    "    ('dt', DecisionTreeClassifier(max_depth=3))\n",
    "]\n",
    "meta_model = SVC(kernel='linear', probability=True)\n",
    "model3 = StackingClassifier(estimators=base_models, final_estimator=meta_model)\n",
    "model3.fit(X_train, y_train)\n",
    "\n",
    "# Predict and evaluate\n",
    "y_pred = model3.predict(X_test)\n",
    "print(\"Accuracy:\", accuracy_score(y_test, y_pred))"
   ]
  },
  {
   "cell_type": "code",
   "execution_count": null,
   "id": "c80daaef-fda8-499f-9259-20398162d3f2",
   "metadata": {},
   "outputs": [],
   "source": []
  }
 ],
 "metadata": {
  "kernelspec": {
   "display_name": "Python 3 (ipykernel)",
   "language": "python",
   "name": "python3"
  },
  "language_info": {
   "codemirror_mode": {
    "name": "ipython",
    "version": 3
   },
   "file_extension": ".py",
   "mimetype": "text/x-python",
   "name": "python",
   "nbconvert_exporter": "python",
   "pygments_lexer": "ipython3",
   "version": "3.11.9"
  }
 },
 "nbformat": 4,
 "nbformat_minor": 5
}
