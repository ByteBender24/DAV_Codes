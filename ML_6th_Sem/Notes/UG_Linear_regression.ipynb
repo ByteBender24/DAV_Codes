{
 "cells": [
  {
   "cell_type": "markdown",
   "metadata": {
    "id": "aDTmfzNhVCEq"
   },
   "source": [
    "1. Import Necessary Libraries"
   ]
  },
  {
   "cell_type": "code",
   "execution_count": 1,
   "metadata": {
    "id": "ZeGrmd-CU6wE"
   },
   "outputs": [],
   "source": [
    "import numpy as np\n",
    "import matplotlib.pyplot as plt\n",
    "from sklearn.datasets import load_iris\n",
    "from sklearn.model_selection import train_test_split\n",
    "from sklearn.preprocessing import StandardScaler\n"
   ]
  },
  {
   "cell_type": "markdown",
   "metadata": {
    "id": "P-pfYhuJVIxR"
   },
   "source": [
    "2. Load and Prepare the Dataset"
   ]
  },
  {
   "cell_type": "code",
   "execution_count": 2,
   "metadata": {
    "id": "clygopFKVJzB"
   },
   "outputs": [],
   "source": [
    "# Load Iris dataset\n",
    "iris = load_iris()\n",
    "X = iris.data[:, 0].reshape(-1, 1)  # Use the first feature\n",
    "y = iris.data[:, 1]  # Use the second feature as the target\n",
    "\n",
    "# Train-test split\n",
    "X_train, X_test, y_train, y_test = train_test_split(X, y, test_size=0.2, random_state=42)\n",
    "\n",
    "# Standardize features for better convergence\n",
    "scaler = StandardScaler()\n",
    "X_train = scaler.fit_transform(X_train)\n",
    "X_test = scaler.transform(X_test)\n"
   ]
  },
  {
   "cell_type": "markdown",
   "metadata": {
    "id": "P1Gs3Wx6VNbZ"
   },
   "source": [
    "3. Initialize Parameters"
   ]
  },
  {
   "cell_type": "code",
   "execution_count": 3,
   "metadata": {
    "id": "LnJeVw9GVOOp"
   },
   "outputs": [],
   "source": [
    "def initialize_weights(dim):\n",
    "    weights = np.zeros(dim)\n",
    "    bias = 0\n",
    "    return weights, bias\n"
   ]
  },
  {
   "cell_type": "markdown",
   "metadata": {
    "id": "BXKvWaQ8VRap"
   },
   "source": [
    "4. Define the Linear Model"
   ]
  },
  {
   "cell_type": "code",
   "execution_count": 4,
   "metadata": {
    "id": "r_Sd9OnnVTkS"
   },
   "outputs": [],
   "source": [
    "def predict(X, weights, bias):\n",
    "    return np.dot(X, weights) + bias\n"
   ]
  },
  {
   "cell_type": "markdown",
   "metadata": {
    "id": "ECM_eImoVW8x"
   },
   "source": [
    "5. Compute the Loss"
   ]
  },
  {
   "cell_type": "code",
   "execution_count": 5,
   "metadata": {
    "id": "Y4DxmYQBVX4x"
   },
   "outputs": [],
   "source": [
    "def compute_loss(y_true, y_pred):\n",
    "    m = len(y_true)\n",
    "    loss = (1 / (2 * m)) * np.sum((y_pred - y_true) ** 2)\n",
    "    return loss\n"
   ]
  },
  {
   "cell_type": "markdown",
   "metadata": {
    "id": "nT1WfunNVcSB"
   },
   "source": [
    "6. Compute Gradients"
   ]
  },
  {
   "cell_type": "code",
   "execution_count": 6,
   "metadata": {
    "id": "1VpIXBkQVdOh"
   },
   "outputs": [],
   "source": [
    "def compute_gradients(X, y_true, y_pred):\n",
    "    m = len(y_true)\n",
    "    dw = (1 / m) * np.dot(X.T, (y_pred - y_true))\n",
    "    db = (1 / m) * np.sum(y_pred - y_true)\n",
    "    return dw, db\n"
   ]
  },
  {
   "cell_type": "markdown",
   "metadata": {
    "id": "ffY8F3e7Vgsp"
   },
   "source": [
    "7. Update Parameters"
   ]
  },
  {
   "cell_type": "code",
   "execution_count": 7,
   "metadata": {
    "id": "DmnW-cmIViza"
   },
   "outputs": [],
   "source": [
    "def update_parameters(weights, bias, dw, db, learning_rate):\n",
    "    weights -= learning_rate * dw\n",
    "    bias -= learning_rate * db\n",
    "    return weights, bias\n"
   ]
  },
  {
   "cell_type": "markdown",
   "metadata": {
    "id": "E4AxR38qVjzB"
   },
   "source": [
    "8. Train the Linear Regression Model"
   ]
  },
  {
   "cell_type": "code",
   "execution_count": 8,
   "metadata": {
    "id": "wKnB1mWOVmbT"
   },
   "outputs": [],
   "source": [
    "def train_linear_regression(X, y, learning_rate, epochs):\n",
    "    weights, bias = initialize_weights(X.shape[1])\n",
    "    for i in range(epochs):\n",
    "        # Make predictions\n",
    "        y_pred = predict(X, weights, bias)\n",
    "\n",
    "        # Compute loss\n",
    "        loss = compute_loss(y, y_pred)\n",
    "\n",
    "        # Compute gradients\n",
    "        dw, db = compute_gradients(X, y, y_pred)\n",
    "\n",
    "        # Update parameters\n",
    "        weights, bias = update_parameters(weights, bias, dw, db, learning_rate)\n",
    "\n",
    "        if i % 100 == 0:\n",
    "            print(f\"Epoch {i}: Loss = {loss:.4f}\")\n",
    "    return weights, bias\n"
   ]
  },
  {
   "cell_type": "markdown",
   "metadata": {
    "id": "GPuF5BCwVqzZ"
   },
   "source": [
    "9. Train the Model"
   ]
  },
  {
   "cell_type": "code",
   "execution_count": 9,
   "metadata": {
    "colab": {
     "base_uri": "https://localhost:8080/"
    },
    "id": "H_Kaae5ZVroR",
    "outputId": "3a24831f-0852-49a2-c3bb-4e5c9db3b5e5"
   },
   "outputs": [
    {
     "name": "stdout",
     "output_type": "stream",
     "text": [
      "Epoch 0: Loss = 4.7869\n",
      "Epoch 100: Loss = 0.7270\n",
      "Epoch 200: Loss = 0.1830\n",
      "Epoch 300: Loss = 0.1101\n",
      "Epoch 400: Loss = 0.1004\n",
      "Epoch 500: Loss = 0.0991\n",
      "Epoch 600: Loss = 0.0989\n",
      "Epoch 700: Loss = 0.0989\n",
      "Epoch 800: Loss = 0.0989\n",
      "Epoch 900: Loss = 0.0989\n"
     ]
    }
   ],
   "source": [
    "learning_rate = 0.01\n",
    "epochs = 1000\n",
    "weights, bias = train_linear_regression(X_train, y_train, learning_rate, epochs)\n"
   ]
  },
  {
   "cell_type": "markdown",
   "metadata": {
    "id": "fNy8HMYWVviq"
   },
   "source": [
    "10. Evaluate the Model"
   ]
  },
  {
   "cell_type": "code",
   "execution_count": 10,
   "metadata": {
    "colab": {
     "base_uri": "https://localhost:8080/"
    },
    "id": "jSVY-NjpVySB",
    "outputId": "719ace75-2333-4eac-803a-265574858d79"
   },
   "outputs": [
    {
     "name": "stdout",
     "output_type": "stream",
     "text": [
      "Test MSE: 0.0698\n"
     ]
    }
   ],
   "source": [
    "def evaluate_model(X, y, weights, bias):\n",
    "    y_pred = predict(X, weights, bias)\n",
    "    mse = compute_loss(y, y_pred)\n",
    "    return mse\n",
    "\n",
    "mse_test = evaluate_model(X_test, y_test, weights, bias)\n",
    "print(f\"Test MSE: {mse_test:.4f}\")\n"
   ]
  },
  {
   "cell_type": "markdown",
   "metadata": {
    "id": "oxm3Cq8xV1kS"
   },
   "source": [
    "11. Visualize the Regression Line"
   ]
  },
  {
   "cell_type": "code",
   "execution_count": null,
   "metadata": {
    "colab": {
     "base_uri": "https://localhost:8080/",
     "height": 472
    },
    "id": "mO-J9fnIV2ra",
    "outputId": "fc6d6979-57e3-4a92-872f-5781de157070"
   },
   "outputs": [
    {
     "data": {
      "image/png": "[encoded data removed]",
      "text/plain": [
       "<Figure size 640x480 with 1 Axes>"
      ]
     },
     "metadata": {},
     "output_type": "display_data"
    }
   ],
   "source": [
    "def plot_regression_line(X, y, weights, bias):\n",
    "    plt.scatter(X, y, color='blue', label='Data Points')\n",
    "    x_range = np.linspace(X.min(), X.max(), 100).reshape(-1, 1)\n",
    "    y_range = predict(x_range, weights, bias)\n",
    "    plt.plot(x_range, y_range, color='red', label='Regression Line')\n",
    "    plt.xlabel('Feature 1 (Standardized)')\n",
    "    plt.ylabel('Feature 2')\n",
    "    plt.title('Linear Regression')\n",
    "    plt.legend()\n",
    "    plt.show()\n",
    "\n",
    "plot_regression_line(X_test, y_test, weights, bias)\n"
   ]
  }
 ],
 "metadata": {
  "colab": {
   "provenance": []
  },
  "kernelspec": {
   "display_name": "Python 3 (ipykernel)",
   "language": "python",
   "name": "python3"
  },
  "language_info": {
   "codemirror_mode": {
    "name": "ipython",
    "version": 3
   },
   "file_extension": ".py",
   "mimetype": "text/x-python",
   "name": "python",
   "nbconvert_exporter": "python",
   "pygments_lexer": "ipython3",
   "version": "3.11.9"
  }
 },
 "nbformat": 4,
 "nbformat_minor": 4
}
